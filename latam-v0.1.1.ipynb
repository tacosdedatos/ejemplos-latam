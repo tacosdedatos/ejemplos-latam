{
 "cells": [
  {
   "cell_type": "markdown",
   "metadata": {},
   "source": [
    "# Como usar `latam` (v0.1.1)"
   ]
  },
  {
   "cell_type": "markdown",
   "metadata": {},
   "source": [
    "Este notebook se creó como ejemplo de la versión 0.1.1 de `latam`. Si quieres explorar `latam` como lo era en esa versión puedes instalarla utilizando\n",
    "```python\n",
    "!pip install latam=0.1.1\n",
    "```\n",
    "en una celda de este notebook."
   ]
  },
  {
   "cell_type": "markdown",
   "metadata": {},
   "source": [
    "***\n",
    "El paquete `latam` tiene el módulo `paises` con, lo adivinaste, los países de latinoamérica. En esta versión tenemos solo a México.\n",
    "\n",
    "Incluiremos `datetime` porque cada entidad tiene el atributo `.huso_horario` (`Ciudad`) o `.husos_horarios` (`Subdivision` y `Pais`)"
   ]
  },
  {
   "cell_type": "code",
   "execution_count": 1,
   "metadata": {},
   "outputs": [],
   "source": [
    "from latam import paises\n",
    "from datetime import datetime as dt"
   ]
  },
  {
   "cell_type": "markdown",
   "metadata": {},
   "source": [
    "Así se representan cada entidad"
   ]
  },
  {
   "cell_type": "code",
   "execution_count": 2,
   "metadata": {},
   "outputs": [
    {
     "data": {
      "text/plain": [
       "<Pais:México>"
      ]
     },
     "execution_count": 2,
     "metadata": {},
     "output_type": "execute_result"
    }
   ],
   "source": [
    "paises.MEX"
   ]
  },
  {
   "cell_type": "code",
   "execution_count": 3,
   "metadata": {
    "scrolled": true
   },
   "outputs": [
    {
     "data": {
      "text/plain": [
       "{'Aguascalientes': <Subdivision:Aguascalientes>,\n",
       " 'Baja California': <Subdivision:Baja California>,\n",
       " 'Baja California Sur': <Subdivision:Baja California Sur>,\n",
       " 'Campeche': <Subdivision:Campeche>,\n",
       " 'Chiapas': <Subdivision:Chiapas>,\n",
       " 'Cihuahua': <Subdivision:Chihuahua>,\n",
       " 'Coahuila': <Subdivision:Coahuila>,\n",
       " 'Colima': <Subdivision:Colima>,\n",
       " 'Durango': <Subdivision:Durango>,\n",
       " 'Guanajuato': <Subdivision:Guanajuato>,\n",
       " 'Hidalgo': <Subdivision:Hidalgo>,\n",
       " 'Jalisco': <Subdivision:Jalisco>,\n",
       " 'Estado de México': <Subdivision:Estado de México>,\n",
       " 'Ciudad de México': <Subdivision:Ciudad de México>,\n",
       " 'Michoacán': <Subdivision:Michoacán>,\n",
       " 'Morelos': <Subdivision:Morelos>,\n",
       " 'Nayarit': <Subdivision:Nayarit>,\n",
       " 'Nuevo León': <Subdivision:Nuevo León>,\n",
       " 'Oaxaca': <Subdivision:Oaxaca>,\n",
       " 'Puebla': <Subdivision:Puebla>,\n",
       " 'Queretaro': <Subdivision:Queretaro>,\n",
       " 'Quintana Roo': <Subdivision:Queretaro>,\n",
       " 'San Luis Potosí': <Subdivision:San Luis Potosí>,\n",
       " 'Sinaloa': <Subdivision:Sinaloa>,\n",
       " 'Sonora': <Subdivision:Sonora>,\n",
       " 'Tabasco': <Subdivision:Tabasco>,\n",
       " 'Tamaulipas': <Subdivision:Tamaulipas>,\n",
       " 'Tlaxcala': <Subdivision:Tlaxcala>,\n",
       " 'Veracrz': <Subdivision:Veracruz>,\n",
       " 'Yucatán': <Subdivision:Yucatán>,\n",
       " 'Zacatecas': <Subdivision:Zacatecas>}"
      ]
     },
     "execution_count": 3,
     "metadata": {},
     "output_type": "execute_result"
    }
   ],
   "source": [
    "paises.MEX.subdivisiones"
   ]
  },
  {
   "cell_type": "code",
   "execution_count": 4,
   "metadata": {},
   "outputs": [
    {
     "data": {
      "text/plain": [
       "<Ciudad:Mexicali>"
      ]
     },
     "execution_count": 4,
     "metadata": {},
     "output_type": "execute_result"
    }
   ],
   "source": [
    "paises.MEX.subdivisiones['Baja California'].capital"
   ]
  },
  {
   "cell_type": "markdown",
   "metadata": {},
   "source": [
    "***\n",
    "Cada entidad tiene varios atributos. Ya mencionamos `.huso(s)_horario(s)` pero también incluimos `.nombre` (oficial), `.nombre_comun` (como se le conoce a la entidad), `.fecha_de_fundacion`, entre otras cosas."
   ]
  },
  {
   "cell_type": "code",
   "execution_count": 5,
   "metadata": {
    "scrolled": true
   },
   "outputs": [
    {
     "name": "stdout",
     "output_type": "stream",
     "text": [
      "La capital de Aguascalientes es Ciudad de Aguascalientes también conocida como Ciudad de la gente buena.\n",
      "Aguascalientes fue fundada el año 1575.\n",
      "Aguascalientes se convierte en estado en 1857. Su huso horario es America/Mexico_City. O sea que ahí son las 17:43.\n",
      "\n",
      "La capital de Baja California es Mexicali también conocida como Chicali.\n",
      "Mexicali fue fundada el año 1903.\n",
      "Baja California se convierte en estado en 1952. Su huso horario es America/Tijuana. O sea que ahí son las 15:43.\n",
      "\n",
      "La capital de Baja California Sur es La Paz.\n",
      "La Paz fue fundada el año 1535.\n",
      "Baja California Sur se convierte en estado en 1974. Su huso horario es America/Hermosillo. O sea que ahí son las 15:43.\n",
      "\n",
      "La capital de Campeche es San Francisco de Campeche también conocida como Ahk'ìin Pech (Maya Yucateco).\n",
      "Campeche fue fundada el año 1540.\n",
      "Campeche se convierte en estado en 1863. Su huso horario es America/Mexico_City. O sea que ahí son las 17:43.\n",
      "\n",
      "La capital de Chiapas es Tuxtla Gutiérrez.\n",
      "Tuxtla Gutiérrez fue fundada el año 1848.\n",
      "Chiapas se convierte en estado en 1824. Su huso horario es America/Mexico_City. O sea que ahí son las 17:43.\n",
      "\n",
      "La capital de Chihuahua es Chihuahua.\n",
      "Chihuahua fue fundada el año 1709.\n",
      "Chihuahua se convierte en estado en 1824. Su huso horario es America/Chihuahua. O sea que ahí son las 16:43.\n",
      "\n",
      "La capital de Coahuila de Zaragoza es Saltillo también conocida como Las Antenas de México.\n",
      "Saltillo fue fundada el año 1577.\n",
      "Coahuila se convierte en estado en 1824. Su huso horario es America/Chihuahua. O sea que ahí son las 16:43.\n",
      "\n",
      "La capital de Colima es Colima también conocida como La Ciudad de las Palmeras.\n",
      "Colima fue fundada el año 1527.\n",
      "Colima se convierte en estado en 1856. Su huso horario es America/Mexico_City. O sea que ahí son las 17:43.\n",
      "\n",
      "La capital de Durango es Victoria de Durango también conocida como La Perla del Guadiana.\n",
      "Durango fue fundada el año 1563.\n",
      "Durango se convierte en estado en 1824. Su huso horario es America/Mexico_City. O sea que ahí son las 17:43.\n",
      "\n",
      "La capital de Guanajuato es Guanajuato también conocida como Lugar montañoso de ranas.\n",
      "Guanajuato fue fundada el año 1546.\n",
      "Guanajuato se convierte en estado en 1823. Su huso horario es America/Mexico_City. O sea que ahí son las 17:43.\n",
      "\n",
      "La capital de Hidalgo es Pachuca de Soto también conocida como La Bella Airosa.\n",
      "Pachuca fue fundada el año 1438.\n",
      "Hidalgo se convierte en estado en 1869. Su huso horario es America/Mexico_City. O sea que ahí son las 17:43.\n",
      "\n",
      "La capital de Jalisco es Guadalajara también conocida como La Perla de Occidente.\n",
      "Guadalajara fue fundada el año 1524.\n",
      "Jalisco se convierte en estado en 1823. Su huso horario es America/Mexico_City. O sea que ahí son las 17:43.\n",
      "\n",
      "La capital de Estado de México es Toluca de Lerdo también conocida como Tollohcan (Náhuatl).\n",
      "Toluca fue fundada el año 1812.\n",
      "Estado de México se convierte en estado en 1823. Su huso horario es America/Mexico_City. O sea que ahí son las 17:43.\n",
      "\n",
      "La capital de Ciudad de México es Ciudad de México también conocida como Āltepētl Mēxihco (Náhuatl).\n",
      "Ciudad de México fue fundada el año 1325.\n",
      "Ciudad de México se convierte en estado en 2016. Su huso horario es America/Mexico_City. O sea que ahí son las 17:43.\n",
      "\n",
      "La capital de Michoacán de Ocampo es Morelia también conocida como Valladolid.\n",
      "Morelia fue fundada el año 1541.\n",
      "Michoacán se convierte en estado en 1823. Su huso horario es America/Mexico_City. O sea que ahí son las 17:43.\n",
      "\n",
      "La capital de Morelos es Cuernavaca también conocida como La ciudad de la eterna primavera.\n",
      "Cuernavaca fue fundada el año 1529.\n",
      "Morelos se convierte en estado en 1869. Su huso horario es America/Mexico_City. O sea que ahí son las 17:43.\n",
      "\n",
      "La capital de Nayarit es Tepic.\n",
      "Tepic fue fundada el año 1531.\n",
      "Nayarit se convierte en estado en 1917. Su huso horario es America/Hermosillo. O sea que ahí son las 15:43.\n",
      "\n",
      "La capital de Nuevo León es Monterrey también conocida como La sultana del norte.\n",
      "Monterrey fue fundada el año 1529.\n",
      "Nuevo León se convierte en estado en 1824. Su huso horario es America/Mexico_City. O sea que ahí son las 17:43.\n",
      "\n",
      "La capital de Oaxaca es Oaxaca de Juárez también conocida como Huaxyacac (Nahuatl).\n",
      "Oaxaca fue fundada el año 1532.\n",
      "Oaxaca se convierte en estado en 1823. Su huso horario es America/Mexico_City. O sea que ahí son las 17:43.\n",
      "\n",
      "La capital de Puebla es Heroica Puebla de Zaragoza también conocida como Cuetlaxcoapan (Nahuatl).\n",
      "Puebla fue fundada el año 1531.\n",
      "Puebla se convierte en estado en 1823. Su huso horario es America/Mexico_City. O sea que ahí son las 17:43.\n",
      "\n",
      "La capital de Querétaro de Arteaga es Santiago de Queretaro también conocida como Dähnini Maxei (Otomí).\n",
      "Queretaro fue fundada el año 1531.\n",
      "Queretaro se convierte en estado en 1823. Su huso horario es America/Mexico_City. O sea que ahí son las 17:43.\n",
      "\n",
      "La capital de Quintana Roo es Chetumal también conocida como Chactemàal (Maya Yucateco).\n",
      "Chetumal fue fundada el año 1898.\n",
      "Queretaro se convierte en estado en 1974. Su huso horario es America/Cancun. O sea que ahí son las 17:43.\n",
      "\n",
      "La capital de San Luis Potosí es San Luis Potosí también conocida como San Luis de la Patria.\n",
      "San Luis Potosí fue fundada el año 1592.\n",
      "San Luis Potosí se convierte en estado en 1823. Su huso horario es America/Mexico_City. O sea que ahí son las 17:43.\n",
      "\n",
      "La capital de Sinaloa es Culiacán Rosales también conocida como La Perla del Humaya.\n",
      "Culiacán fue fundada el año 1531.\n",
      "Sinaloa se convierte en estado en 1830. Su huso horario es America/Hermosillo. O sea que ahí son las 15:43.\n",
      "\n",
      "La capital de Sonora es Hermosillo también conocida como La Ciudad del Sol.\n",
      "Hermosillo fue fundada el año 1700.\n",
      "Sonora se convierte en estado en 1824. Su huso horario es America/Hermosillo. O sea que ahí son las 15:43.\n",
      "\n",
      "La capital de Tabasco es Villahermosa también conocida como La Esmeralda del Sureste.\n",
      "Villahermosa fue fundada el año 1564.\n",
      "Tabasco se convierte en estado en 1824. Su huso horario es America/Mexico_City. O sea que ahí son las 17:43.\n",
      "\n",
      "La capital de Tamaulipas es Ciudad Victoria.\n",
      "Ciudad Victoria fue fundada el año 1750.\n",
      "Tamaulipas se convierte en estado en 1824. Su huso horario es America/Mexico_City. O sea que ahí son las 17:43.\n",
      "\n",
      "La capital de Tlaxcala es Tlaxcala.\n",
      "Tlaxcala fue fundada el año 1525.\n",
      "Tlaxcala se convierte en estado en 1856. Su huso horario es America/Mexico_City. O sea que ahí son las 17:43.\n",
      "\n",
      "La capital de Veracruz de Ignacio de la Llave es Xalapa-Enríquez también conocida como La Ciudad de las Flores.\n",
      "Xalapa fue fundada el año 1791.\n",
      "Veracruz se convierte en estado en 1823. Su huso horario es America/Mexico_City. O sea que ahí son las 17:43.\n",
      "\n",
      "La capital de Yucatán es Merida.\n",
      "Merida fue fundada el año 1542.\n",
      "Yucatán se convierte en estado en 1823. Su huso horario es America/Mexico_City. O sea que ahí son las 17:43.\n",
      "\n",
      "La capital de Zacatecas es Zacatecas también conocida como Civilizadora del Norte.\n",
      "Zacatecas fue fundada el año 1546.\n",
      "Zacatecas se convierte en estado en 1823. Su huso horario es America/Mexico_City. O sea que ahí son las 17:43.\n",
      "\n"
     ]
    }
   ],
   "source": [
    "for nombre,subdivision in paises.MEX.subdivisiones.items():\n",
    "    if subdivision.capital.otros_nombres:\n",
    "        otro_nombre = subdivision.capital.otros_nombres[0]\n",
    "        print(f\"La capital de {subdivision.nombre} es {subdivision.capital.nombre} también conocida como {otro_nombre}.\")\n",
    "    else:\n",
    "        print(f\"La capital de {subdivision.nombre} es {subdivision.capital.nombre_comun}.\")\n",
    "    print(f\"{subdivision.capital.nombre_comun} fue fundada el año {subdivision.capital.fecha_de_fundacion.year}.\")\n",
    "    print(f\"{subdivision.nombre_comun} se convierte en estado en {subdivision.fecha_de_fundacion.year}. Su huso horario es {subdivision.husos_horarios[0]}. O sea que ahí son las {dt.now(tz=subdivision.husos_horarios[0]).strftime('%H:%M')}.\")\n",
    "    print(\"\")"
   ]
  },
  {
   "cell_type": "markdown",
   "metadata": {},
   "source": [
    "Cada país viene con la siguiente información:"
   ]
  },
  {
   "cell_type": "code",
   "execution_count": 6,
   "metadata": {
    "scrolled": true
   },
   "outputs": [
    {
     "data": {
      "text/plain": [
       "{'nombre': 'Estados Unidos Mexicanos',\n",
       " 'nombre_comun': 'México',\n",
       " 'abrev': 'Mex',\n",
       " 'nombre_pronunciacion_local': \"'me.xi.ko\",\n",
       " 'alpha_2': 'MX',\n",
       " 'alpha_3': 'MEX',\n",
       " 'codigo': '484',\n",
       " 'capital': 'Ciudad de México',\n",
       " 'capital_horario': <DstTzInfo 'America/Mexico_City' LMT-1 day, 17:23:00 STD>,\n",
       " 'capital_latlong': (19.43, -99.13),\n",
       " 'es_independiente': True,\n",
       " 'fecha_independencia': datetime.date(1810, 9, 16),\n",
       " 'es_isla': False,\n",
       " 'husos_horarios': [<DstTzInfo 'America/Tijuana' LMT-1 day, 16:12:00 STD>,\n",
       "  <DstTzInfo 'America/Hermosillo' LMT-1 day, 16:36:00 STD>,\n",
       "  <DstTzInfo 'America/Mexico_City' LMT-1 day, 17:23:00 STD>,\n",
       "  <DstTzInfo 'America/Cancun' LMT-1 day, 18:13:00 STD>],\n",
       " 'subdivisiones': {'Aguascalientes': <Subdivision:Aguascalientes>,\n",
       "  'Baja California': <Subdivision:Baja California>,\n",
       "  'Baja California Sur': <Subdivision:Baja California Sur>,\n",
       "  'Campeche': <Subdivision:Campeche>,\n",
       "  'Chiapas': <Subdivision:Chiapas>,\n",
       "  'Cihuahua': <Subdivision:Chihuahua>,\n",
       "  'Coahuila': <Subdivision:Coahuila>,\n",
       "  'Colima': <Subdivision:Colima>,\n",
       "  'Durango': <Subdivision:Durango>,\n",
       "  'Guanajuato': <Subdivision:Guanajuato>,\n",
       "  'Hidalgo': <Subdivision:Hidalgo>,\n",
       "  'Jalisco': <Subdivision:Jalisco>,\n",
       "  'Estado de México': <Subdivision:Estado de México>,\n",
       "  'Ciudad de México': <Subdivision:Ciudad de México>,\n",
       "  'Michoacán': <Subdivision:Michoacán>,\n",
       "  'Morelos': <Subdivision:Morelos>,\n",
       "  'Nayarit': <Subdivision:Nayarit>,\n",
       "  'Nuevo León': <Subdivision:Nuevo León>,\n",
       "  'Oaxaca': <Subdivision:Oaxaca>,\n",
       "  'Puebla': <Subdivision:Puebla>,\n",
       "  'Queretaro': <Subdivision:Queretaro>,\n",
       "  'Quintana Roo': <Subdivision:Queretaro>,\n",
       "  'San Luis Potosí': <Subdivision:San Luis Potosí>,\n",
       "  'Sinaloa': <Subdivision:Sinaloa>,\n",
       "  'Sonora': <Subdivision:Sonora>,\n",
       "  'Tabasco': <Subdivision:Tabasco>,\n",
       "  'Tamaulipas': <Subdivision:Tamaulipas>,\n",
       "  'Tlaxcala': <Subdivision:Tlaxcala>,\n",
       "  'Veracrz': <Subdivision:Veracruz>,\n",
       "  'Yucatán': <Subdivision:Yucatán>,\n",
       "  'Zacatecas': <Subdivision:Zacatecas>},\n",
       " 'df':   abrev alpha_2 alpha_3           capital      capital_horario  capital_lat  \\\n",
       " 0   Mex      MX     MEX  Ciudad de México  America/Mexico_City        19.43   \n",
       " \n",
       "    capital_long codigo  es_independiente  es_isla fecha_independencia  \\\n",
       " 0        -99.13    484              True    False          1810-09-16   \n",
       " \n",
       "                                         huso_horario  \\\n",
       " 0  [America/Tijuana, America/Hermosillo, America/...   \n",
       " \n",
       "                      nombre nombre_comun nombre_pronunciacion_local  \\\n",
       " 0  Estados Unidos Mexicanos       México                  'me.xi.ko   \n",
       " \n",
       "                                        subdivisiones  \n",
       " 0  [Aguascalientes, Baja California, Baja Califor...  ,\n",
       " 'subdivisiones_df':      abrev                     capital      capital_horario  capital_lat  \\\n",
       " 0      AGS    Ciudad de Aguascalientes  America/Mexico_City        21.88   \n",
       " 1       BC                    Mexicali      America/Tijuana        32.67   \n",
       " 2      BCS                      La Paz   America/Hermosillo        24.14   \n",
       " 3      CAM   San Francisco de Campeche  America/Mexico_City        19.85   \n",
       " 4     CHIS            Tuxtla Gutiérrez  America/Mexico_City        16.75   \n",
       " 5     CHIH                   Chihuahua    America/Chihuahua        28.64   \n",
       " 6     COAH                    Saltillo    America/Chihuahua        25.43   \n",
       " 7      COL                      Colima  America/Mexico_City        19.24   \n",
       " 8      DUR         Victoria de Durango  America/Mexico_City        24.02   \n",
       " 9      GTO                  Guanajuato  America/Mexico_City        21.02   \n",
       " 10     HGO             Pachuca de Soto  America/Mexico_City        20.12   \n",
       " 11     JAL                 Guadalajara  America/Mexico_City        20.67   \n",
       " 12  EdoMex             Toluca de Lerdo  America/Mexico_City        19.29   \n",
       " 13    CDMX            Ciudad de México  America/Mexico_City        19.43   \n",
       " 14    MICH                     Morelia  America/Mexico_City        19.77   \n",
       " 15     MOR                  Cuernavaca  America/Mexico_City        18.92   \n",
       " 16     NAY                       Tepic   America/Hermosillo        21.51   \n",
       " 17      NL                   Monterrey  America/Mexico_City        25.67   \n",
       " 18     OAX            Oaxaca de Juárez  America/Mexico_City         7.08   \n",
       " 19     PUE  Heroica Puebla de Zaragoza  America/Mexico_City        19.03   \n",
       " 20     QRO       Santiago de Queretaro  America/Mexico_City        20.59   \n",
       " 21      QR                    Chetumal       America/Cancun        18.50   \n",
       " 22     SLP             San Luis Potosí  America/Mexico_City        22.15   \n",
       " 23     SNL            Culiacán Rosales   America/Hermosillo        24.81   \n",
       " 24     SON                  Hermosillo   America/Hermosillo        29.09   \n",
       " 25     TAB                Villahermosa  America/Mexico_City        17.99   \n",
       " 26   TAMPS             Ciudad Victoria  America/Mexico_City        23.73   \n",
       " 27    TLAX     Tlaxcala de Xicohténcat  America/Mexico_City        19.31   \n",
       " 28     VER             Xalapa-Enríquez  America/Mexico_City        19.54   \n",
       " 29     YUC                      Merida  America/Mexico_City        20.97   \n",
       " 30     ZAC                   Zacatecas  America/Mexico_City        22.77   \n",
       " \n",
       "     capital_long alpha_2  codigo_numerico  es_contigua  es_isla  \\\n",
       " 0        -102.29     AGU                1         True    False   \n",
       " 1        -115.47     BCN                2         True    False   \n",
       " 2        -110.31     BCS                3         True    False   \n",
       " 3         -90.53     CAM                4         True    False   \n",
       " 4         -93.12     CHP                7         True    False   \n",
       " 5        -106.09     CHH                8         True    False   \n",
       " 6        -101.00     COA                5         True    False   \n",
       " 7        -103.73     COL                6         True    False   \n",
       " 8        -104.67     DUR               10         True    False   \n",
       " 9        -101.26     GUA               11         True    False   \n",
       " 10        -98.74     HGO               13         True    False   \n",
       " 11       -103.35     JAL               14         True    False   \n",
       " 12        -99.66     MEX               15         True    False   \n",
       " 13        -99.13     CMX                9         True    False   \n",
       " 14       -101.19     MIC               16         True    False   \n",
       " 15        -99.23     MOR               17         True    False   \n",
       " 16       -104.89     NAY               18         True    False   \n",
       " 17       -100.30     NLE               19         True    False   \n",
       " 18        -96.75     OAX               20         True    False   \n",
       " 19        -98.18     PUE               21         True    False   \n",
       " 20       -100.39     QUE               22         True    False   \n",
       " 21        -88.31     ROO               23         True    False   \n",
       " 22       -100.99     SLP               24         True    False   \n",
       " 23       -107.39     SIN               25         True    False   \n",
       " 24       -110.95     SON               26         True    False   \n",
       " 25        -92.93     TAB               27         True    False   \n",
       " 26        -99.13     TAM               28         True    False   \n",
       " 27        -98.24     TLA               29         True    False   \n",
       " 28        -96.93     VER               30         True    False   \n",
       " 29        -89.62     YUC               31         True    False   \n",
       " 30       -102.57     ZAC               32         True    False   \n",
       " \n",
       "    fecha_de_fundacion         huso_horario                           nombre  \\\n",
       " 0          1857-02-05  America/Mexico_City                   Aguascalientes   \n",
       " 1          1952-01-16      America/Tijuana                  Baja California   \n",
       " 2          1974-10-08   America/Hermosillo              Baja California Sur   \n",
       " 3          1863-04-29  America/Mexico_City                         Campeche   \n",
       " 4          1824-09-14  America/Mexico_City                          Chiapas   \n",
       " 5          1824-07-06    America/Chihuahua                        Chihuahua   \n",
       " 6          1824-05-07    America/Chihuahua             Coahuila de Zaragoza   \n",
       " 7          1856-12-09  America/Mexico_City                           Colima   \n",
       " 8          1824-05-22  America/Mexico_City                          Durango   \n",
       " 9          1823-12-20  America/Mexico_City                       Guanajuato   \n",
       " 10         1869-01-16  America/Mexico_City                          Hidalgo   \n",
       " 11         1823-12-23  America/Mexico_City                          Jalisco   \n",
       " 12         1823-12-20  America/Mexico_City                 Estado de México   \n",
       " 13         2016-01-29  America/Mexico_City                 Ciudad de México   \n",
       " 14         1823-12-22  America/Mexico_City              Michoacán de Ocampo   \n",
       " 15         1869-04-17  America/Mexico_City                          Morelos   \n",
       " 16         1917-01-26   America/Hermosillo                          Nayarit   \n",
       " 17         1824-05-17  America/Mexico_City                       Nuevo León   \n",
       " 18         1823-12-21  America/Mexico_City                           Oaxaca   \n",
       " 19         1823-12-21  America/Mexico_City                           Puebla   \n",
       " 20         1823-12-23  America/Mexico_City             Querétaro de Arteaga   \n",
       " 21         1974-10-08       America/Cancun                     Quintana Roo   \n",
       " 22         1823-12-22  America/Mexico_City                  San Luis Potosí   \n",
       " 23         1830-10-14   America/Hermosillo                          Sinaloa   \n",
       " 24         1824-01-10   America/Hermosillo                           Sonora   \n",
       " 25         1824-02-07  America/Mexico_City                          Tabasco   \n",
       " 26         1824-02-07  America/Mexico_City                       Tamaulipas   \n",
       " 27         1856-12-09  America/Mexico_City                         Tlaxcala   \n",
       " 28         1823-12-22  America/Mexico_City  Veracruz de Ignacio de la Llave   \n",
       " 29         1823-12-23  America/Mexico_City                          Yucatán   \n",
       " 30         1823-12-23  America/Mexico_City                        Zacatecas   \n",
       " \n",
       "            nombre_comun   nombre_pronunciacion_local  \\\n",
       " 0        Aguascalientes        a.ɣ̞was.ka'.ljen̟.tes   \n",
       " 1       Baja California       'ba.xa. ka.li'.for.nja   \n",
       " 2   Baja California Sur  'ba.xa. ka.li'.for.nja 'sur   \n",
       " 3              Campeche                   kam'pe.tʃe   \n",
       " 4               Chiapas                    tʃjap'.as   \n",
       " 5             Chihuahua                   tʃi'.wa.wa   \n",
       " 6              Coahuila  koa'.wj.la ðe θa.ra'.ɣ̞o.θa   \n",
       " 7                Colima                    ko'.li.ma   \n",
       " 8               Durango                   du'.ɾaŋ.ɡo   \n",
       " 9            Guanajuato               gwa.na'.xwa.to   \n",
       " 10              Hidalgo                    i'.ðal.ɣo   \n",
       " 11              Jalisco                   xa'.lis.ko   \n",
       " 12     Estado de México       es'.ta.ðo ðe 'me.xi.ko   \n",
       " 13     Ciudad de México      sju'.ða(ð) ðe 'me.xi.ko   \n",
       " 14            Michoacán    mi.tʃoa'.kan de o'.kam.po   \n",
       " 15              Morelos                   mo'.ɾe.los   \n",
       " 16              Nayarit                   na.ʝa'.ɾit   \n",
       " 17           Nuevo León               'nwe.βo le.'on   \n",
       " 18               Oaxaca                    wa'.xa.ka   \n",
       " 19               Puebla                     'pwe.βla   \n",
       " 20            Queretaro                 ke'.ɾe.ta.ɾo   \n",
       " 21            Queretaro              kin'.ta.na 'roo   \n",
       " 22      San Luis Potosí          san 'lwis po.to.'si   \n",
       " 23              Sinaloa                   si.na'.loa   \n",
       " 24               Sonora                    so'.no.ɾa   \n",
       " 25              Tabasco                   ta.'βas.ko   \n",
       " 26           Tamaulipas               ta.maw'.li.pas   \n",
       " 27             Tlaxcala               tla(k)s'.ka.la   \n",
       " 28             Veracruz                  be.ɾa'.kɾus   \n",
       " 29              Yucatán                  ɟʝu.ka.'tan   \n",
       " 30            Zacatecas                sa.ka.'te.kas   \n",
       " \n",
       "                             nombres_nativos  \n",
       " 0                                            \n",
       " 1                                            \n",
       " 2                                            \n",
       " 3                                            \n",
       " 4                                            \n",
       " 5                                            \n",
       " 6                                            \n",
       " 7                                            \n",
       " 8   Korian (Tepehuán),Tepēhuahcān (Náhuatl)  \n",
       " 9                kuanhasï juáta (Purépecha)  \n",
       " 10                                           \n",
       " 11          Tlahtohcayotl Xalixco (Náhuatl)  \n",
       " 12                        Mēxihco (Náhuatl)  \n",
       " 13               Āltepētl Mēxihco (Náhuatl)  \n",
       " 14                    Michhuahcān (Náhuatl)  \n",
       " 15                                           \n",
       " 16                                           \n",
       " 17                                           \n",
       " 18                      Huāxyacac (Nahuatl)  \n",
       " 19                  Cuetlaxcoapan (Nahuatl)  \n",
       " 20                    Hyodi Ndämxei (Otomí)  \n",
       " 21                                           \n",
       " 22                                           \n",
       " 23                                           \n",
       " 24                                           \n",
       " 25                                           \n",
       " 26                                           \n",
       " 27                     Tlaxcallān (Nahuatl)  \n",
       " 28                                           \n",
       " 29                                           \n",
       " 30                                           }"
      ]
     },
     "execution_count": 6,
     "metadata": {},
     "output_type": "execute_result"
    }
   ],
   "source": [
    "paises.MEX.__dict__"
   ]
  },
  {
   "cell_type": "markdown",
   "metadata": {},
   "source": [
    "Cada subdivisión (el segundo nivel de gobernación, en México son \"estados\") tiene la siguiente información:"
   ]
  },
  {
   "cell_type": "code",
   "execution_count": 7,
   "metadata": {},
   "outputs": [
    {
     "data": {
      "text/plain": [
       "{'nombre': 'Baja California',\n",
       " 'nombre_comun': 'Baja California',\n",
       " 'nombres_nativos': {},\n",
       " 'abrev': 'BC',\n",
       " 'nombre_pronunciacion_local': \"'ba.xa. ka.li'.for.nja\",\n",
       " 'codigo': 'BCN',\n",
       " 'codigo_numerico': 2,\n",
       " 'capital': <Ciudad:Mexicali>,\n",
       " 'capital_horario': <DstTzInfo 'America/Tijuana' LMT-1 day, 16:12:00 STD>,\n",
       " 'capital_latlong': (32.67, -115.47),\n",
       " 'es_contigua': True,\n",
       " 'es_isla': False,\n",
       " 'fecha_de_fundacion': datetime.date(1952, 1, 16),\n",
       " 'husos_horarios': [<DstTzInfo 'America/Tijuana' LMT-1 day, 16:12:00 STD>],\n",
       " 'ciudades_grandes': {'Tijuana': <Ciudad:Tijuana>}}"
      ]
     },
     "execution_count": 7,
     "metadata": {},
     "output_type": "execute_result"
    }
   ],
   "source": [
    "paises.MEX.subdivisiones[\"Baja California\"].__dict__"
   ]
  },
  {
   "cell_type": "markdown",
   "metadata": {},
   "source": [
    "Cada subdivisión viene con por lo menos una ciudad (su capital) y tal vez otras ciudades grandes (o perfectas como Tijuana ♥️):"
   ]
  },
  {
   "cell_type": "code",
   "execution_count": 8,
   "metadata": {},
   "outputs": [
    {
     "data": {
      "text/plain": [
       "{'nombre': 'Tijuana',\n",
       " 'nombre_comun': 'Tijuana',\n",
       " 'otros_nombres': ['Rancho Tía Juana'],\n",
       " 'abrev': 'Tj',\n",
       " 'nombre_pronunciacion_local': \"ti.'xwa.na\",\n",
       " 'latlong': (32.52, -117.05),\n",
       " 'fecha_de_fundacion': datetime.date(1889, 7, 11),\n",
       " 'huso_horario': <DstTzInfo 'America/Tijuana' LMT-1 day, 16:12:00 STD>}"
      ]
     },
     "execution_count": 8,
     "metadata": {},
     "output_type": "execute_result"
    }
   ],
   "source": [
    "paises.MEX.subdivisiones[\"Baja California\"].ciudades_grandes[\"Tijuana\"].__dict__"
   ]
  }
 ],
 "metadata": {
  "kernelspec": {
   "display_name": "Python 3",
   "language": "python",
   "name": "python3"
  },
  "language_info": {
   "codemirror_mode": {
    "name": "ipython",
    "version": 3
   },
   "file_extension": ".py",
   "mimetype": "text/x-python",
   "name": "python",
   "nbconvert_exporter": "python",
   "pygments_lexer": "ipython3",
   "version": "3.8.6"
  }
 },
 "nbformat": 4,
 "nbformat_minor": 4
}
