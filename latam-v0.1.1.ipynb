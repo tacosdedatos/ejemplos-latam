{
 "cells": [
  {
   "cell_type": "markdown",
   "metadata": {},
   "source": [
    "# Como usar `latam` (v0.1.1)"
   ]
  },
  {
   "cell_type": "code",
   "execution_count": 1,
   "metadata": {},
   "outputs": [],
   "source": [
    "from latam import paises\n",
    "from datetime import datetime as dt"
   ]
  },
  {
   "cell_type": "code",
   "execution_count": 2,
   "metadata": {
    "scrolled": true
   },
   "outputs": [
    {
     "data": {
      "text/plain": [
       "<Subdivision:Baja California>"
      ]
     },
     "execution_count": 2,
     "metadata": {},
     "output_type": "execute_result"
    }
   ],
   "source": [
    "paises.MEX.subdivisiones[\"Baja California\"]"
   ]
  },
  {
   "cell_type": "code",
   "execution_count": 3,
   "metadata": {
    "scrolled": true
   },
   "outputs": [
    {
     "name": "stdout",
     "output_type": "stream",
     "text": [
      "La capital de Aguascalientes es Ciudad de Aguascalientes también conocida como Ciudad de la gente buena.\n",
      "Aguascalientes fue fundada el año 1575\n",
      "Aguascalientes se convierte en estado en 1857. Su huso horario es America/Mexico_City. O sea que ahí son las 23:22\n",
      "La capital de Baja California es Mexicali también conocida como Chicali.\n",
      "Mexicali fue fundada el año 1903\n",
      "Baja California se convierte en estado en 1952. Su huso horario es America/Tijuana. O sea que ahí son las 21:22\n",
      "La capital de Baja California Sur es La Paz.\n",
      "La Paz fue fundada el año 1535\n",
      "Baja California Sur se convierte en estado en 1974. Su huso horario es America/Hermosillo. O sea que ahí son las 21:22\n",
      "La capital de Campeche es San Francisco de Campeche también conocida como Ahk'ìin Pech (Maya Yucateco).\n",
      "Campeche fue fundada el año 1540\n",
      "Campeche se convierte en estado en 1863. Su huso horario es America/Mexico_City. O sea que ahí son las 23:22\n",
      "La capital de Chiapas es Tuxtla Gutiérrez.\n",
      "Tuxtla Gutiérrez fue fundada el año 1848\n",
      "Chiapas se convierte en estado en 1824. Su huso horario es America/Mexico_City. O sea que ahí son las 23:22\n",
      "La capital de Chihuahua es Chihuahua.\n",
      "Chihuahua fue fundada el año 1709\n",
      "Chihuahua se convierte en estado en 1824. Su huso horario es America/Chihuahua. O sea que ahí son las 22:22\n",
      "La capital de Coahuila de Zaragoza es Saltillo también conocida como Las Antenas de México.\n",
      "Saltillo fue fundada el año 1577\n",
      "Coahuila se convierte en estado en 1824. Su huso horario es America/Chihuahua. O sea que ahí son las 22:22\n",
      "La capital de Colima es Colima también conocida como La Ciudad de las Palmeras.\n",
      "Colima fue fundada el año 1527\n",
      "Colima se convierte en estado en 1856. Su huso horario es America/Mexico_City. O sea que ahí son las 23:22\n",
      "La capital de Durango es Victoria de Durango también conocida como La Perla del Guadiana.\n",
      "Durango fue fundada el año 1563\n",
      "Durango se convierte en estado en 1824. Su huso horario es America/Mexico_City. O sea que ahí son las 23:22\n",
      "La capital de Guanajuato es Guanajuato también conocida como Lugar montañoso de ranas.\n",
      "Guanajuato fue fundada el año 1546\n",
      "Guanajuato se convierte en estado en 1823. Su huso horario es America/Mexico_City. O sea que ahí son las 23:22\n",
      "La capital de Hidalgo es Pachuca de Soto también conocida como La Bella Airosa.\n",
      "Pachuca fue fundada el año 1438\n",
      "Hidalgo se convierte en estado en 1869. Su huso horario es America/Mexico_City. O sea que ahí son las 23:22\n",
      "La capital de Jalisco es Guadalajara también conocida como La Perla de Occidente.\n",
      "Guadalajara fue fundada el año 1524\n",
      "Jalisco se convierte en estado en 1823. Su huso horario es America/Mexico_City. O sea que ahí son las 23:22\n",
      "La capital de Estado de México es Toluca de Lerdo también conocida como Tollohcan (Náhuatl).\n",
      "Toluca fue fundada el año 1812\n",
      "Estado de México se convierte en estado en 1823. Su huso horario es America/Mexico_City. O sea que ahí son las 23:22\n",
      "La capital de Ciudad de México es Ciudad de México también conocida como Āltepētl Mēxihco (Náhuatl).\n",
      "Ciudad de México fue fundada el año 1325\n",
      "Ciudad de México se convierte en estado en 2016. Su huso horario es America/Mexico_City. O sea que ahí son las 23:22\n",
      "La capital de Michoacán de Ocampo es Morelia también conocida como Valladolid.\n",
      "Morelia fue fundada el año 1541\n",
      "Michoacán se convierte en estado en 1823. Su huso horario es America/Mexico_City. O sea que ahí son las 23:22\n",
      "La capital de Morelos es Cuernavaca también conocida como La ciudad de la eterna primavera.\n",
      "Cuernavaca fue fundada el año 1529\n",
      "Morelos se convierte en estado en 1869. Su huso horario es America/Mexico_City. O sea que ahí son las 23:22\n",
      "La capital de Nayarit es Tepic.\n",
      "Tepic fue fundada el año 1531\n",
      "Nayarit se convierte en estado en 1917. Su huso horario es America/Hermosillo. O sea que ahí son las 21:22\n",
      "La capital de Nuevo León es Monterrey también conocida como La sultana del norte.\n",
      "Monterrey fue fundada el año 1529\n",
      "Nuevo León se convierte en estado en 1824. Su huso horario es America/Mexico_City. O sea que ahí son las 23:22\n",
      "La capital de Oaxaca es Oaxaca de Juárez también conocida como Huaxyacac (Nahuatl).\n",
      "Oaxaca fue fundada el año 1532\n",
      "Oaxaca se convierte en estado en 1823. Su huso horario es America/Mexico_City. O sea que ahí son las 23:22\n",
      "La capital de Puebla es Heroica Puebla de Zaragoza también conocida como Cuetlaxcoapan (Nahuatl).\n",
      "Puebla fue fundada el año 1531\n",
      "Puebla se convierte en estado en 1823. Su huso horario es America/Mexico_City. O sea que ahí son las 23:22\n",
      "La capital de Querétaro de Arteaga es Santiago de Queretaro también conocida como Dähnini Maxei (Otomí).\n",
      "Queretaro fue fundada el año 1531\n",
      "Queretaro se convierte en estado en 1823. Su huso horario es America/Mexico_City. O sea que ahí son las 23:22\n",
      "La capital de Quintana Roo es Chetumal también conocida como Chactemàal (Maya Yucateco).\n",
      "Chetumal fue fundada el año 1898\n",
      "Queretaro se convierte en estado en 1974. Su huso horario es America/Cancun. O sea que ahí son las 23:22\n",
      "La capital de San Luis Potosí es San Luis Potosí también conocida como San Luis de la Patria.\n",
      "San Luis Potosí fue fundada el año 1592\n",
      "San Luis Potosí se convierte en estado en 1823. Su huso horario es America/Mexico_City. O sea que ahí son las 23:22\n",
      "La capital de Sinaloa es Culiacán Rosales también conocida como La Perla del Humaya.\n",
      "Culiacán fue fundada el año 1531\n",
      "Sinaloa se convierte en estado en 1830. Su huso horario es America/Hermosillo. O sea que ahí son las 21:22\n",
      "La capital de Sonora es Hermosillo también conocida como La Ciudad del Sol.\n",
      "Hermosillo fue fundada el año 1700\n",
      "Sonora se convierte en estado en 1824. Su huso horario es America/Hermosillo. O sea que ahí son las 21:22\n",
      "La capital de Tabasco es Villahermosa también conocida como La Esmeralda del Sureste.\n",
      "Villahermosa fue fundada el año 1564\n",
      "Tabasco se convierte en estado en 1824. Su huso horario es America/Mexico_City. O sea que ahí son las 23:22\n",
      "La capital de Tamaulipas es Ciudad Victoria.\n",
      "Ciudad Victoria fue fundada el año 1750\n",
      "Tamaulipas se convierte en estado en 1824. Su huso horario es America/Mexico_City. O sea que ahí son las 23:22\n",
      "La capital de Tlaxcala es Tlaxcala.\n",
      "Tlaxcala fue fundada el año 1525\n",
      "Tlaxcala se convierte en estado en 1856. Su huso horario es America/Mexico_City. O sea que ahí son las 23:22\n",
      "La capital de Veracruz de Ignacio de la Llave es Xalapa-Enríquez también conocida como La Ciudad de las Flores.\n",
      "Xalapa fue fundada el año 1791\n",
      "Veracruz se convierte en estado en 1823. Su huso horario es America/Mexico_City. O sea que ahí son las 23:22\n",
      "La capital de Yucatán es Merida.\n",
      "Merida fue fundada el año 1542\n",
      "Yucatán se convierte en estado en 1823. Su huso horario es America/Mexico_City. O sea que ahí son las 23:22\n",
      "La capital de Zacatecas es Zacatecas también conocida como Civilizadora del Norte.\n",
      "Zacatecas fue fundada el año 1546\n",
      "Zacatecas se convierte en estado en 1823. Su huso horario es America/Mexico_City. O sea que ahí son las 23:22\n"
     ]
    }
   ],
   "source": [
    "for key,value in paises.MEX.subdivisiones.items():\n",
    "    if value.capital.otros_nombres:\n",
    "        otro_nombre = value.capital.otros_nombres[0]\n",
    "        print(f\"La capital de {value.nombre} es {value.capital.nombre} también conocida como {otro_nombre}.\")\n",
    "    else:\n",
    "        print(f\"La capital de {value.nombre} es {value.capital.nombre_comun}.\")\n",
    "    print(f\"{value.capital.nombre_comun} fue fundada el año {value.capital.fecha_de_fundacion.year}\")\n",
    "    print(f\"{value.nombre_comun} se convierte en estado en {value.fecha_de_fundacion.year}. Su huso horario es {value.husos_horarios[0]}. O sea que ahí son las {dt.now(tz=value.husos_horarios[0]).strftime('%H:%M')}\")"
   ]
  },
  {
   "cell_type": "markdown",
   "metadata": {},
   "source": [
    "Cada país viene con la siguiente información:"
   ]
  },
  {
   "cell_type": "code",
   "execution_count": 4,
   "metadata": {
    "scrolled": true
   },
   "outputs": [
    {
     "data": {
      "text/plain": [
       "{'nombre': 'Estados Unidos Mexicanos',\n",
       " 'nombre_comun': 'México',\n",
       " 'abrev': 'Mex',\n",
       " 'nombre_pronunciacion_local': \"'me.xi.ko\",\n",
       " 'alpha_2': 'MX',\n",
       " 'alpha_3': 'MEX',\n",
       " 'codigo': '484',\n",
       " 'capital': 'Ciudad de México',\n",
       " 'capital_horario': <DstTzInfo 'America/Mexico_City' LMT-1 day, 17:23:00 STD>,\n",
       " 'capital_latlong': (19.43, -99.13),\n",
       " 'es_independiente': True,\n",
       " 'fecha_independencia': datetime.date(1810, 9, 16),\n",
       " 'es_isla': False,\n",
       " 'husos_horarios': [<DstTzInfo 'America/Tijuana' LMT-1 day, 16:12:00 STD>,\n",
       "  <DstTzInfo 'America/Hermosillo' LMT-1 day, 16:36:00 STD>,\n",
       "  <DstTzInfo 'America/Mexico_City' LMT-1 day, 17:23:00 STD>,\n",
       "  <DstTzInfo 'America/Cancun' LMT-1 day, 18:13:00 STD>],\n",
       " 'subdivisiones': {'Aguascalientes': <Subdivision:Aguascalientes>,\n",
       "  'Baja California': <Subdivision:Baja California>,\n",
       "  'Baja California Sur': <Subdivision:Baja California Sur>,\n",
       "  'Campeche': <Subdivision:Campeche>,\n",
       "  'Chiapas': <Subdivision:Chiapas>,\n",
       "  'Cihuahua': <Subdivision:Chihuahua>,\n",
       "  'Coahuila': <Subdivision:Coahuila>,\n",
       "  'Colima': <Subdivision:Colima>,\n",
       "  'Durango': <Subdivision:Durango>,\n",
       "  'Guanajuato': <Subdivision:Guanajuato>,\n",
       "  'Hidalgo': <Subdivision:Hidalgo>,\n",
       "  'Jalisco': <Subdivision:Jalisco>,\n",
       "  'Estado de México': <Subdivision:Estado de México>,\n",
       "  'Ciudad de México': <Subdivision:Ciudad de México>,\n",
       "  'Michoacán': <Subdivision:Michoacán>,\n",
       "  'Morelos': <Subdivision:Morelos>,\n",
       "  'Nayarit': <Subdivision:Nayarit>,\n",
       "  'Nuevo León': <Subdivision:Nuevo León>,\n",
       "  'Oaxaca': <Subdivision:Oaxaca>,\n",
       "  'Puebla': <Subdivision:Puebla>,\n",
       "  'Queretaro': <Subdivision:Queretaro>,\n",
       "  'Quintana Roo': <Subdivision:Queretaro>,\n",
       "  'San Luis Potosí': <Subdivision:San Luis Potosí>,\n",
       "  'Sinaloa': <Subdivision:Sinaloa>,\n",
       "  'Sonora': <Subdivision:Sonora>,\n",
       "  'Tabasco': <Subdivision:Tabasco>,\n",
       "  'Tamaulipas': <Subdivision:Tamaulipas>,\n",
       "  'Tlaxcala': <Subdivision:Tlaxcala>,\n",
       "  'Veracrz': <Subdivision:Veracruz>,\n",
       "  'Yucatán': <Subdivision:Yucatán>,\n",
       "  'Zacatecas': <Subdivision:Zacatecas>}}"
      ]
     },
     "execution_count": 4,
     "metadata": {},
     "output_type": "execute_result"
    }
   ],
   "source": [
    "paises.MEX.__dict__"
   ]
  },
  {
   "cell_type": "markdown",
   "metadata": {},
   "source": [
    "Cada subdivisión (el segundo nivel de gobernación, en México son \"estados\") tiene la siguiente información:"
   ]
  },
  {
   "cell_type": "code",
   "execution_count": 5,
   "metadata": {},
   "outputs": [
    {
     "data": {
      "text/plain": [
       "{'nombre': 'Baja California',\n",
       " 'nombre_comun': 'Baja California',\n",
       " 'nombres_nativos': {},\n",
       " 'abrev': 'BC',\n",
       " 'nombre_pronunciacion_local': \"'ba.xa. ka.li'.for.nja\",\n",
       " 'codigo': 'BCN',\n",
       " 'codigo_numerico': 2,\n",
       " 'capital': <Ciudad:Mexicali>,\n",
       " 'capital_horario': <DstTzInfo 'America/Tijuana' LMT-1 day, 16:12:00 STD>,\n",
       " 'capital_latlong': (32.67, -115.47),\n",
       " 'es_contigua': True,\n",
       " 'es_isla': False,\n",
       " 'fecha_de_fundacion': datetime.date(1952, 1, 16),\n",
       " 'husos_horarios': [<DstTzInfo 'America/Tijuana' LMT-1 day, 16:12:00 STD>],\n",
       " 'ciudades_grandes': {'Tijuana': <Ciudad:Tijuana>}}"
      ]
     },
     "execution_count": 5,
     "metadata": {},
     "output_type": "execute_result"
    }
   ],
   "source": [
    "paises.MEX.subdivisiones[\"Baja California\"].__dict__"
   ]
  },
  {
   "cell_type": "markdown",
   "metadata": {},
   "source": [
    "Cada subdivisión viene con por lo menos una ciudad (su capital) y tal vez otras ciudades grandes (o perfectas como Tijuana ♥️):"
   ]
  },
  {
   "cell_type": "code",
   "execution_count": 6,
   "metadata": {},
   "outputs": [
    {
     "data": {
      "text/plain": [
       "{'nombre': 'Tijuana',\n",
       " 'nombre_comun': 'Tijuana',\n",
       " 'otros_nombres': ['Rancho Tía Juana'],\n",
       " 'abrev': 'Tj',\n",
       " 'nombre_pronunciacion_local': \"ti.'xwa.na\",\n",
       " 'latlong': (32.52, -117.05),\n",
       " 'fecha_de_fundacion': datetime.date(1889, 7, 11),\n",
       " 'huso_horario': <DstTzInfo 'America/Tijuana' LMT-1 day, 16:12:00 STD>}"
      ]
     },
     "execution_count": 6,
     "metadata": {},
     "output_type": "execute_result"
    }
   ],
   "source": [
    "paises.MEX.subdivisiones[\"Baja California\"].ciudades_grandes[\"Tijuana\"].__dict__"
   ]
  }
 ],
 "metadata": {
  "kernelspec": {
   "display_name": "Python 3",
   "language": "python",
   "name": "python3"
  },
  "language_info": {
   "codemirror_mode": {
    "name": "ipython",
    "version": 3
   },
   "file_extension": ".py",
   "mimetype": "text/x-python",
   "name": "python",
   "nbconvert_exporter": "python",
   "pygments_lexer": "ipython3",
   "version": "3.7.1"
  }
 },
 "nbformat": 4,
 "nbformat_minor": 2
}
