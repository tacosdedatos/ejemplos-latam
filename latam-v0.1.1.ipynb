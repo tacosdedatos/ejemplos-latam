{
 "cells": [
  {
   "cell_type": "markdown",
   "metadata": {},
   "source": [
    "# Como usar `latam` (v0.1.1)"
   ]
  },
  {
   "cell_type": "code",
   "execution_count": 1,
   "metadata": {},
   "outputs": [],
   "source": [
    "from latam import paises\n",
    "from datetime import datetime as dt"
   ]
  },
  {
   "cell_type": "code",
   "execution_count": 2,
   "metadata": {
    "scrolled": true
   },
   "outputs": [
    {
     "data": {
      "text/plain": [
       "<Subdivision:Baja California>"
      ]
     },
     "execution_count": 2,
     "metadata": {},
     "output_type": "execute_result"
    }
   ],
   "source": [
    "paises.MEX.subdivisiones[\"Baja California\"]"
   ]
  },
  {
   "cell_type": "code",
   "execution_count": 3,
   "metadata": {
    "scrolled": true
   },
   "outputs": [
    {
     "name": "stdout",
     "output_type": "stream",
     "text": [
      "La capital de Aguascalientes es Ciudad de Aguascalientes también conocida como Ciudad de la gente buena.\n",
      "La capital de Aguascalientes es Aguascalientes.\n",
      "Aguascalientes fue fundada el año 1575\n",
      "Aguascalientes se convierte en estado en 1857. Su huso horario es America/Mexico_City. O sea que ahí son las 22:58\n",
      "La capital de Baja California es Mexicali también conocida como Chicali.\n",
      "La capital de Baja California es Mexicali.\n",
      "Mexicali fue fundada el año 1903\n",
      "Baja California se convierte en estado en 1952. Su huso horario es America/Tijuana. O sea que ahí son las 20:58\n",
      "La capital de Baja California Sur es La Paz.\n",
      "La Paz fue fundada el año 1535\n",
      "Baja California Sur se convierte en estado en 1974. Su huso horario es America/Hermosillo. O sea que ahí son las 20:58\n",
      "La capital de Campeche es San Francisco de Campeche también conocida como Ahk'ìin Pech (Maya Yucateco).\n",
      "La capital de Campeche es Campeche.\n",
      "Campeche fue fundada el año 1540\n",
      "Campeche se convierte en estado en 1863. Su huso horario es America/Mexico_City. O sea que ahí son las 22:58\n",
      "La capital de Chiapas es Tuxtla Gutiérrez.\n",
      "Tuxtla Gutiérrez fue fundada el año 1848\n",
      "Chiapas se convierte en estado en 1824. Su huso horario es America/Mexico_City. O sea que ahí son las 22:58\n",
      "La capital de Chihuahua es Chihuahua.\n",
      "Chihuahua fue fundada el año 1709\n",
      "Chihuahua se convierte en estado en 1824. Su huso horario es America/Chihuahua. O sea que ahí son las 21:58\n",
      "La capital de Coahuila de Zaragoza es Saltillo también conocida como Las Antenas de México.\n",
      "La capital de Coahuila de Zaragoza es Saltillo.\n",
      "Saltillo fue fundada el año 1577\n",
      "Coahuila se convierte en estado en 1824. Su huso horario es America/Chihuahua. O sea que ahí son las 21:58\n",
      "La capital de Colima es Colima también conocida como La Ciudad de las Palmeras.\n",
      "La capital de Colima es Colima.\n",
      "Colima fue fundada el año 1527\n",
      "Colima se convierte en estado en 1856. Su huso horario es America/Mexico_City. O sea que ahí son las 22:58\n",
      "La capital de Durango es Victoria de Durango también conocida como La Perla del Guadiana.\n",
      "La capital de Durango es Durango.\n",
      "Durango fue fundada el año 1563\n",
      "Durango se convierte en estado en 1824. Su huso horario es America/Mexico_City. O sea que ahí son las 22:58\n",
      "La capital de Guanajuato es Guanajuato también conocida como Lugar montañoso de ranas.\n",
      "La capital de Guanajuato es Guanajuato.\n",
      "Guanajuato fue fundada el año 1546\n",
      "Guanajuato se convierte en estado en 1823. Su huso horario es America/Mexico_City. O sea que ahí son las 22:58\n",
      "La capital de Hidalgo es Pachuca de Soto también conocida como La Bella Airosa.\n",
      "La capital de Hidalgo es Pachuca.\n",
      "Pachuca fue fundada el año 1438\n",
      "Hidalgo se convierte en estado en 1869. Su huso horario es America/Mexico_City. O sea que ahí son las 22:58\n",
      "La capital de Jalisco es Guadalajara también conocida como La Perla de Occidente.\n",
      "La capital de Jalisco es Guadalajara.\n",
      "Guadalajara fue fundada el año 1524\n",
      "Jalisco se convierte en estado en 1823. Su huso horario es America/Mexico_City. O sea que ahí son las 22:58\n",
      "La capital de Estado de México es Toluca de Lerdo también conocida como Tollohcan (Náhuatl).\n",
      "La capital de Estado de México es Toluca.\n",
      "Toluca fue fundada el año 1812\n",
      "Estado de México se convierte en estado en 1823. Su huso horario es America/Mexico_City. O sea que ahí son las 22:58\n",
      "La capital de Ciudad de México es Ciudad de México también conocida como Āltepētl Mēxihco (Náhuatl).\n",
      "La capital de Ciudad de México es Ciudad de México.\n",
      "Ciudad de México fue fundada el año 1325\n",
      "Ciudad de México se convierte en estado en 2016. Su huso horario es America/Mexico_City. O sea que ahí son las 22:58\n",
      "La capital de Michoacán de Ocampo es Morelia también conocida como Valladolid.\n",
      "La capital de Michoacán de Ocampo es Morelia.\n",
      "Morelia fue fundada el año 1541\n",
      "Michoacán se convierte en estado en 1823. Su huso horario es America/Mexico_City. O sea que ahí son las 22:58\n",
      "La capital de Morelos es Cuernavaca también conocida como La ciudad de la eterna primavera.\n",
      "La capital de Morelos es Cuernavaca.\n",
      "Cuernavaca fue fundada el año 1529\n",
      "Morelos se convierte en estado en 1869. Su huso horario es America/Mexico_City. O sea que ahí son las 22:58\n",
      "La capital de Nayarit es Tepic.\n",
      "Tepic fue fundada el año 1531\n",
      "Nayarit se convierte en estado en 1917. Su huso horario es America/Hermosillo. O sea que ahí son las 20:58\n",
      "La capital de Nuevo León es Monterrey también conocida como La sultana del norte.\n",
      "La capital de Nuevo León es Monterrey.\n",
      "Monterrey fue fundada el año 1529\n",
      "Nuevo León se convierte en estado en 1824. Su huso horario es America/Mexico_City. O sea que ahí son las 22:58\n",
      "La capital de Oaxaca es Oaxaca de Juárez también conocida como Huaxyacac (Nahuatl).\n",
      "La capital de Oaxaca es Oaxaca.\n",
      "Oaxaca fue fundada el año 1532\n",
      "Oaxaca se convierte en estado en 1823. Su huso horario es America/Mexico_City. O sea que ahí son las 22:58\n",
      "La capital de Puebla es Heroica Puebla de Zaragoza también conocida como Cuetlaxcoapan (Nahuatl).\n",
      "La capital de Puebla es Puebla.\n",
      "Puebla fue fundada el año 1531\n",
      "Puebla se convierte en estado en 1823. Su huso horario es America/Mexico_City. O sea que ahí son las 22:58\n",
      "La capital de Querétaro de Arteaga es Santiago de Queretaro también conocida como Dähnini Maxei (Otomí).\n",
      "La capital de Querétaro de Arteaga es Queretaro.\n",
      "Queretaro fue fundada el año 1531\n",
      "Queretaro se convierte en estado en 1823. Su huso horario es America/Mexico_City. O sea que ahí son las 22:58\n",
      "La capital de Quintana Roo es Chetumal también conocida como Chactemàal (Maya Yucateco).\n",
      "La capital de Quintana Roo es Chetumal.\n",
      "Chetumal fue fundada el año 1898\n",
      "Queretaro se convierte en estado en 1974. Su huso horario es America/Cancun. O sea que ahí son las 22:58\n",
      "La capital de San Luis Potosí es San Luis Potosí también conocida como San Luis de la Patria.\n",
      "La capital de San Luis Potosí es San Luis Potosí.\n",
      "San Luis Potosí fue fundada el año 1592\n",
      "San Luis Potosí se convierte en estado en 1823. Su huso horario es America/Mexico_City. O sea que ahí son las 22:58\n",
      "La capital de Sinaloa es Culiacán Rosales también conocida como La Perla del Humaya.\n",
      "La capital de Sinaloa es Culiacán.\n",
      "Culiacán fue fundada el año 1531\n",
      "Sinaloa se convierte en estado en 1830. Su huso horario es America/Hermosillo. O sea que ahí son las 20:58\n",
      "La capital de Sonora es Hermosillo también conocida como La Ciudad del Sol.\n",
      "La capital de Sonora es Hermosillo.\n",
      "Hermosillo fue fundada el año 1700\n",
      "Sonora se convierte en estado en 1824. Su huso horario es America/Hermosillo. O sea que ahí son las 20:58\n",
      "La capital de Tabasco es Villahermosa también conocida como La Esmeralda del Sureste.\n",
      "La capital de Tabasco es Villahermosa.\n",
      "Villahermosa fue fundada el año 1564\n",
      "Tabasco se convierte en estado en 1824. Su huso horario es America/Mexico_City. O sea que ahí son las 22:58\n",
      "La capital de Tamaulipas es Ciudad Victoria.\n",
      "Ciudad Victoria fue fundada el año 1750\n",
      "Tamaulipas se convierte en estado en 1824. Su huso horario es America/Mexico_City. O sea que ahí son las 22:58\n",
      "La capital de Tlaxcala es Tlaxcala.\n",
      "Tlaxcala fue fundada el año 1525\n",
      "Tlaxcala se convierte en estado en 1856. Su huso horario es America/Mexico_City. O sea que ahí son las 22:58\n",
      "La capital de Veracruz de Ignacio de la Llave es Xalapa-Enríquez también conocida como La Ciudad de las Flores.\n",
      "La capital de Veracruz de Ignacio de la Llave es Xalapa.\n",
      "Xalapa fue fundada el año 1791\n",
      "Veracruz se convierte en estado en 1823. Su huso horario es America/Mexico_City. O sea que ahí son las 22:58\n",
      "La capital de Yucatán es Merida.\n",
      "Merida fue fundada el año 1542\n",
      "Yucatán se convierte en estado en 1823. Su huso horario es America/Mexico_City. O sea que ahí son las 22:58\n",
      "La capital de Zacatecas es Zacatecas también conocida como Civilizadora del Norte.\n",
      "La capital de Zacatecas es Zacatecas.\n",
      "Zacatecas fue fundada el año 1546\n",
      "Zacatecas se convierte en estado en 1823. Su huso horario es America/Mexico_City. O sea que ahí son las 22:58\n"
     ]
    }
   ],
   "source": [
    "for key,value in paises.MEX.subdivisiones.items():\n",
    "    if value.capital.otros_nombres:\n",
    "        otro_nombre = value.capital.otros_nombres[0]\n",
    "        print(f\"La capital de {value.nombre} es {value.capital.nombre} también conocida como {otro_nombre}.\")\n",
    "    else:\n",
    "        print(f\"La capital de {value.nombre} es {value.capital.nombre_comun}.\")\n",
    "    print(f\"{value.capital.nombre_comun} fue fundada el año {value.capital.fecha_de_fundacion.year}\")\n",
    "    print(f\"{value.nombre_comun} se convierte en estado en {value.fecha_de_fundacion.year}. Su huso horario es {value.husos_horarios[0]}. O sea que ahí son las {dt.now(tz=value.husos_horarios[0]).strftime('%H:%M')}\")"
   ]
  }
 ],
 "metadata": {
  "kernelspec": {
   "display_name": "Python 3",
   "language": "python",
   "name": "python3"
  },
  "language_info": {
   "codemirror_mode": {
    "name": "ipython",
    "version": 3
   },
   "file_extension": ".py",
   "mimetype": "text/x-python",
   "name": "python",
   "nbconvert_exporter": "python",
   "pygments_lexer": "ipython3",
   "version": "3.7.1"
  }
 },
 "nbformat": 4,
 "nbformat_minor": 2
}
